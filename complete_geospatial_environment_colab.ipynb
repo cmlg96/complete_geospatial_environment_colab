{
  "nbformat": 4,
  "nbformat_minor": 0,
  "metadata": {
    "colab": {
      "provenance": [],
      "authorship_tag": "ABX9TyNs9s1gNqPggYST5VW/Jwai",
      "include_colab_link": true
    },
    "kernelspec": {
      "name": "python3",
      "display_name": "Python 3"
    },
    "language_info": {
      "name": "python"
    }
  },
  "cells": [
    {
      "cell_type": "markdown",
      "metadata": {
        "id": "view-in-github",
        "colab_type": "text"
      },
      "source": [
        "<a href=\"https://colab.research.google.com/github/cmlg96/complete_geospatial_environment_colab/blob/main/complete_geospatial_environment_colab.ipynb\" target=\"_parent\"><img src=\"https://colab.research.google.com/assets/colab-badge.svg\" alt=\"Open In Colab\"/></a>"
      ]
    },
    {
      "cell_type": "markdown",
      "source": [
        "# 🌍 Configuración Completa de Entorno Geoespacial en Google Colab\n",
        "\n",
        "Este entorno incluye todas las herramientas necesarias para análisis geoespacial, segmentación satelital, visualización avanzada y más.\n",
        "\n",
        "### ✅ Paquetes principales incluidos:\n",
        "- GDAL y rasterio\n",
        "- s2dr3 (versión personalizada)\n",
        "- geemap, leafmap, Earth Engine API\n",
        "- SAMGeo, PyTorch con soporte CUDA\n",
        "- geopandas, OpenCV, scikit-image\n",
        "\n",
        "\n"
      ],
      "metadata": {
        "id": "WO6yoDKsKghO"
      }
    },
    {
      "cell_type": "markdown",
      "source": [
        "## 🗂️ Paso 1: Montar Google Drive\n",
        "### Se usa para guardar el entorno virtual persistente.\n"
      ],
      "metadata": {
        "id": "lyfKioehKnZZ"
      }
    },
    {
      "cell_type": "code",
      "execution_count": null,
      "metadata": {
        "id": "qh2stxK8KG6f"
      },
      "outputs": [],
      "source": [
        "from google.colab import drive\n",
        "drive.mount('/content/drive')\n"
      ]
    },
    {
      "cell_type": "markdown",
      "source": [
        "## ⚙️ Paso 2: Instalar dependencias del sistema (GDAL)"
      ],
      "metadata": {
        "id": "tbHjX0YGKvQY"
      }
    },
    {
      "cell_type": "code",
      "source": [
        "print(\"Instalando dependencias de sistema...\")\n",
        "!apt-get update -qq\n",
        "!apt-get install -qq gdal-bin libgdal-dev python3-gdal\n"
      ],
      "metadata": {
        "id": "av-qWjcYKx9n"
      },
      "execution_count": null,
      "outputs": []
    },
    {
      "cell_type": "markdown",
      "source": [
        "## 🐍 Paso 3: Crear entorno virtual en Google Drive (persistente entre sesiones)"
      ],
      "metadata": {
        "id": "NHrPqpX4KzN6"
      }
    },
    {
      "cell_type": "code",
      "source": [
        "import os\n",
        "\n",
        "venv_path = '/content/drive/MyDrive/colab_venv_full'\n",
        "\n",
        "if not os.path.exists(venv_path):\n",
        "    print(\"Creando entorno virtual completo...\")\n",
        "    !python -m venv {venv_path} --system-site-packages\n",
        "    print(f\"Entorno creado en: {venv_path}\")\n",
        "else:\n",
        "    print(f\"Entorno ya existe en: {venv_path}\")\n"
      ],
      "metadata": {
        "id": "A4VjiDGEK3Hd"
      },
      "execution_count": null,
      "outputs": []
    },
    {
      "cell_type": "markdown",
      "source": [
        "## 🔁 Paso 4: Activar entorno virtual y configurar variables de entorno"
      ],
      "metadata": {
        "id": "Lg3dM5hmK4RD"
      }
    },
    {
      "cell_type": "code",
      "source": [
        "def activate_full_venv():\n",
        "    \"\"\"Activa el entorno virtual y configura GDAL\"\"\"\n",
        "    import sys\n",
        "    import os\n",
        "\n",
        "    os.environ['PATH'] = f\"/usr/local/bin:{os.environ['PATH']}\"\n",
        "    os.environ['GDAL_DATA'] = '/usr/share/gdal'\n",
        "\n",
        "    activate_script = f'{venv_path}/bin/activate_this.py'\n",
        "    with open(activate_script) as f:\n",
        "        exec(f.read(), {'__file__': activate_script})\n",
        "\n",
        "    print(f\"Entorno activado. Python path: {sys.executable}\")\n",
        "\n",
        "activate_full_venv()\n"
      ],
      "metadata": {
        "id": "3kRBn96YK56C"
      },
      "execution_count": null,
      "outputs": []
    },
    {
      "cell_type": "markdown",
      "source": [
        "## 📦 Paso 5: Instalar todos los paquetes Python necesarios\n"
      ],
      "metadata": {
        "id": "r21Q0jGEK8Y-"
      }
    },
    {
      "cell_type": "code",
      "source": [
        "print(\"Instalando todos los paquetes Python...\")\n",
        "\n",
        "all_packages = [\n",
        "    'https://storage.googleapis.com/0x7ff601307fa5/s2dr3-20250307.1-cp311-cp311-linux_x86_64.whl',\n",
        "    'geemap', 'earthengine-api', 'rasterio', 'matplotlib', 'numpy',\n",
        "    'segment-geospatial', 'torch==2.0.1+cu118', 'torchvision==0.15.2+cu118',\n",
        "    'torchaudio==2.0.2', 'samgeo', 'leafmap', 'pycocotools',\n",
        "    'opencv-python', 'scikit-image', 'pandas', 'geopandas'\n",
        "]\n",
        "\n",
        "!pip install {' '.join(all_packages)} --quiet\n"
      ],
      "metadata": {
        "id": "4aoWuY5zK_On"
      },
      "execution_count": null,
      "outputs": []
    },
    {
      "cell_type": "markdown",
      "source": [
        "## 🌐 Paso 6: Autenticar y configurar Google Earth Engine"
      ],
      "metadata": {
        "id": "J3VcIfraLGEH"
      }
    },
    {
      "cell_type": "code",
      "source": [
        "print(\"\\nConfigurando Earth Engine...\")\n",
        "try:\n",
        "    import ee\n",
        "    ee.Authenticate()\n",
        "    ee.Initialize()\n",
        "    print(\"✅ Earth Engine configurado correctamente\")\n",
        "except Exception as e:\n",
        "    print(f\"❌ Error configurando Earth Engine: {str(e)}\")\n"
      ],
      "metadata": {
        "id": "1vZY8lwALELR"
      },
      "execution_count": null,
      "outputs": []
    },
    {
      "cell_type": "markdown",
      "source": [
        "## ✅ Paso 7: Verificar instalación de los paquetes"
      ],
      "metadata": {
        "id": "5rccyBKXLKQK"
      }
    },
    {
      "cell_type": "code",
      "source": [
        "def verify_full_installation():\n",
        "    \"\"\"Verifica que todos los paquetes están instalados\"\"\"\n",
        "    import importlib\n",
        "\n",
        "    print(\"\\n🔍 Verificación completa:\")\n",
        "    packages_to_check = [\n",
        "        'gdal', 'geemap', 'ee', 'rasterio',\n",
        "        'matplotlib', 'numpy', 'segment_anything',\n",
        "        'torch', 'samgeo', 'leafmap'\n",
        "    ]\n",
        "\n",
        "    for pkg in packages_to_check:\n",
        "        try:\n",
        "            mod = importlib.import_module(pkg)\n",
        "            version = getattr(mod, '__version__', 'versión no disponible')\n",
        "            print(f\"✓ {pkg}: {version}\")\n",
        "        except ImportError:\n",
        "            print(f\"✗ {pkg}: NO instalado\")\n",
        "\n",
        "verify_full_installation()\n"
      ],
      "metadata": {
        "id": "yoQ8dAYDLMvR"
      },
      "execution_count": null,
      "outputs": []
    },
    {
      "cell_type": "markdown",
      "source": [
        "## 🚀 Paso 8: Verificar uso de GPU (CUDA)"
      ],
      "metadata": {
        "id": "raIMmAJqLNY_"
      }
    },
    {
      "cell_type": "code",
      "source": [
        "def check_gpu_setup():\n",
        "    \"\"\"Verifica si hay GPU disponible y configurada\"\"\"\n",
        "    import torch\n",
        "    if torch.cuda.is_available():\n",
        "        print(\"\\n✅ GPU detectada:\")\n",
        "        print(f\"🔹 Dispositivo: {torch.cuda.get_device_name(0)}\")\n",
        "        print(f\"🔹 Versión CUDA: {torch.version.cuda}\")\n",
        "        print(f\"🔹 Memoria: {torch.cuda.get_device_properties(0).total_memory/1e9:.2f} GB\")\n",
        "    else:\n",
        "        print(\"\\n⚠️ Advertencia: No se detectó GPU, usando CPU\")\n",
        "\n",
        "check_gpu_setup()\n"
      ],
      "metadata": {
        "id": "oyt0VswSLPsp"
      },
      "execution_count": null,
      "outputs": []
    },
    {
      "cell_type": "markdown",
      "source": [
        "## 🔄 Cómo reutilizar en futuras sesiones\n",
        "\n",
        "1. Montar Google Drive:\n",
        "   ```python\n",
        "   from google.colab import drive\n",
        "   drive.mount('/content/drive')"
      ],
      "metadata": {
        "id": "yLX82Eg7LRoO"
      }
    },
    {
      "cell_type": "code",
      "source": [
        "from google.colab import drive\n",
        "drive.mount('/content/drive')\n",
        "\n",
        "venv_path = '/content/drive/MyDrive/colab_venv_full'\n",
        "\n",
        "def activate_full_venv():\n",
        "    \"\"\"Activa el entorno virtual y configura GDAL\"\"\"\n",
        "    import sys\n",
        "    import os\n",
        "\n",
        "    os.environ['PATH'] = f\"/usr/local/bin:{os.environ['PATH']}\"\n",
        "    os.environ['GDAL_DATA'] = '/usr/share/gdal'\n",
        "\n",
        "    activate_script = f'{venv_path}/bin/activate_this.py'\n",
        "    with open(activate_script) as f:\n",
        "        exec(f.read(), {'__file__': activate_script})\n",
        "\n",
        "    print(f\"Entorno activado. Python path: {sys.executable}\")\n",
        "\n",
        "activate_full_venv()  # Esto activará todo tu entorno\n",
        "\n"
      ],
      "metadata": {
        "id": "B6NDnV36LWdI"
      },
      "execution_count": null,
      "outputs": []
    }
  ]
}